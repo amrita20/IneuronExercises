{
 "metadata": {
  "language_info": {
   "codemirror_mode": {
    "name": "ipython",
    "version": 3
   },
   "file_extension": ".py",
   "mimetype": "text/x-python",
   "name": "python",
   "nbconvert_exporter": "python",
   "pygments_lexer": "ipython3",
   "version": "3.7.6-final"
  },
  "orig_nbformat": 2,
  "kernelspec": {
   "name": "python_defaultSpec_1600016322933",
   "display_name": "Python 3.7.6 64-bit"
  }
 },
 "nbformat": 4,
 "nbformat_minor": 2,
 "cells": [
  {
   "source": [
    "1.1 Write a Python Program(with class concepts) to find the area of the triangle using the below formula. \n",
    " \n",
    "area = (s*(s-a)*(s-b)*(s-c)) ** 0.5 \n",
    " \n",
    "Function to take the length of the sides of triangle from user should be defined in the parent class and function to calculate the area should be defined in subclass."
   ],
   "cell_type": "markdown",
   "metadata": {}
  },
  {
   "cell_type": "code",
   "execution_count": 1,
   "metadata": {
    "tags": []
   },
   "outputs": [
    {
     "output_type": "stream",
     "name": "stdout",
     "text": "Child class in initialized\nParent class is initialized\nThe sides of the triangle are: [4,6,8]\nArea to the triangle is 11.61895003862225\n"
    }
   ],
   "source": [
    "class Triangle:\n",
    "    def __init__(self, a, b, c):\n",
    "        print('Parent class is initialized')\n",
    "        self.a = a\n",
    "        self.b = b\n",
    "        self.c = c\n",
    "        print('The sides of the triangle are: ['+ str(a) + \",\" + str(b) + \",\" + str(c) +']')\n",
    "class Area(Triangle):\n",
    "    def __init__(self, a, b, c):\n",
    "        print(\"Child class in initialized\")\n",
    "        super(Area, self).__init__(a, b, c)\n",
    "\n",
    "    def obtained_area(self):\n",
    "        s =  (self.a+self.b+self.c)/2\n",
    "        area = (s*(s-self.a)*(s-self.b)*(s-self.c))**0.5 \n",
    "        return area  \n",
    "\n",
    "Area = Area(4,6,8)\n",
    "print('Area to the triangle is ' + str(Area.obtained_area())) "
   ]
  },
  {
   "source": [
    "1.2 Write a function filter_long_words() that takes a list of words and an integer n and returns the list of words that are longer than n. "
   ],
   "cell_type": "markdown",
   "metadata": {}
  },
  {
   "cell_type": "code",
   "execution_count": 2,
   "metadata": {
    "tags": []
   },
   "outputs": [
    {
     "output_type": "stream",
     "name": "stdout",
     "text": "Initialized list_word object\nThe filtered words are:\n['second', 'question', 'fourth', 'assignment', 'ineuron']\n"
    }
   ],
   "source": [
    "class list_word:\n",
    "    def __init__(self,word_list):\n",
    "        self.word_list = word_list\n",
    "        print(\"Initialized list_word object\")\n",
    "\n",
    "    def filter_long_words(self, n):\n",
    "        print('The filtered words are:')\n",
    "        return list(filter(lambda x:len(x)>n, self.word_list))\n",
    "\n",
    "list1 = list_word(['This','is','the','second','question','of','fourth','assignment','at','ineuron'])            \n",
    "print(str(list1.filter_long_words(5)))  "
   ]
  },
  {
   "source": [
    "2.1 Write a Python program using function concept that maps list of words into a list of integers representing the lengths of the corresponding words."
   ],
   "cell_type": "markdown",
   "metadata": {}
  },
  {
   "cell_type": "code",
   "execution_count": 3,
   "metadata": {
    "tags": []
   },
   "outputs": [
    {
     "output_type": "stream",
     "name": "stdout",
     "text": "Corresponding word lengths are : [4, 2, 3, 6, 8, 2, 6, 10, 2, 7]\n"
    }
   ],
   "source": [
    "list2 = ['This','is','the','second','question','of','fourth','assignment','at','ineuron']       \n",
    "def word_length(word_list):\n",
    "        return list(map(lambda x:len(x), word_list))\n",
    "\n",
    "print('Corresponding word lengths are : ' + str(word_length(list2)))"
   ]
  },
  {
   "source": [
    "2.2 Write a Python function which takes a character (i.e. a string of length 1) and returns True if it is a vowel, False otherwise."
   ],
   "cell_type": "markdown",
   "metadata": {}
  },
  {
   "cell_type": "code",
   "execution_count": 4,
   "metadata": {
    "tags": []
   },
   "outputs": [
    {
     "output_type": "stream",
     "name": "stdout",
     "text": "a is vowel.\n"
    }
   ],
   "source": [
    "def vowel(character):\n",
    "  if character in ('a', 'e', 'i', 'o', 'u'):\n",
    "    return True\n",
    "  else:\n",
    "    return False\n",
    "\n",
    "character = input(\"Input a letter of the alphabet:\")\n",
    "\n",
    "if not character.isalpha() or len(character)>1:\n",
    "  print (\"Either you are not giving character as input or your character is longer than 1 unit. \")\n",
    "  exit();\n",
    "\n",
    "if (vowel(character)):\n",
    "  print(f\"{character} is vowel.\")\n",
    "else:\n",
    "  print(f\"{character} is consonant.\") "
   ]
  }
 ]
}