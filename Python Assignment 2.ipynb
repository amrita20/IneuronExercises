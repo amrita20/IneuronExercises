{
 "metadata": {
  "language_info": {
   "codemirror_mode": {
    "name": "ipython",
    "version": 3
   },
   "file_extension": ".py",
   "mimetype": "text/x-python",
   "name": "python",
   "nbconvert_exporter": "python",
   "pygments_lexer": "ipython3",
   "version": "3.7.6-final"
  },
  "orig_nbformat": 2,
  "kernelspec": {
   "name": "python_defaultSpec_1600015334105",
   "display_name": "Python 3.7.6 64-bit"
  }
 },
 "nbformat": 4,
 "nbformat_minor": 2,
 "cells": [
  {
   "source": [
    "1. Create the below pattern using nested for loop in Python."
   ],
   "cell_type": "markdown",
   "metadata": {}
  },
  {
   "cell_type": "code",
   "execution_count": 2,
   "metadata": {
    "tags": []
   },
   "outputs": [
    {
     "output_type": "stream",
     "name": "stdout",
     "text": "\n* \n* * \n* * * \n* * * * \n* * * * * \n* * * * \n* * * \n* * \n* \n"
    }
   ],
   "source": [
    "n=5;\n",
    "# TOP Pattern\n",
    "for i in range(0,n):\n",
    "    for j in range(0,i):\n",
    "        print ('* ', end=\"\")\n",
    "    print('')\n",
    "# Bottom pattern\n",
    "for i in range(n,0,-1):\n",
    "    for j in range(0,i):\n",
    "        print('* ', end=\"\")\n",
    "    print('')    \n"
   ]
  },
  {
   "source": [
    "2. Write a Python program to reverse a word after accepting the input from the user."
   ],
   "cell_type": "markdown",
   "metadata": {}
  },
  {
   "cell_type": "code",
   "execution_count": 3,
   "metadata": {
    "tags": []
   },
   "outputs": [
    {
     "output_type": "stream",
     "name": "stdout",
     "text": "noruenI\n"
    }
   ],
   "source": [
    "Input_word = input(\"Input word :  \")\n",
    "print(f\"{Input_word[::-1].strip()}\")"
   ]
  }
 ]
}