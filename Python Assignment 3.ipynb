{
 "metadata": {
  "language_info": {
   "codemirror_mode": {
    "name": "ipython",
    "version": 3
   },
   "file_extension": ".py",
   "mimetype": "text/x-python",
   "name": "python",
   "nbconvert_exporter": "python",
   "pygments_lexer": "ipython3",
   "version": "3.7.6-final"
  },
  "orig_nbformat": 2,
  "kernelspec": {
   "name": "python_defaultSpec_1600015631267",
   "display_name": "Python 3.7.6 64-bit"
  }
 },
 "nbformat": 4,
 "nbformat_minor": 2,
 "cells": [
  {
   "source": [
    "1.1 Write a Python Program to implement your own myreduce() function which works exactly like Python's built-in function reduce() "
   ],
   "cell_type": "markdown",
   "metadata": {}
  },
  {
   "cell_type": "code",
   "execution_count": 1,
   "metadata": {},
   "outputs": [],
   "source": [
    "def myreduce(func,sequence):\n",
    "\n",
    "    output = sequence[0]\n",
    "    for item in sequence[1:]:\n",
    "        output = func(output,item)\n",
    "\n",
    "    return output"
   ]
  },
  {
   "cell_type": "code",
   "execution_count": 2,
   "metadata": {
    "tags": []
   },
   "outputs": [
    {
     "output_type": "stream",
     "name": "stdout",
     "text": "150\n"
    }
   ],
   "source": [
    "print(myreduce(lambda x,y:x+y,[10,20,30,40,50]))"
   ]
  },
  {
   "cell_type": "code",
   "execution_count": 3,
   "metadata": {
    "tags": []
   },
   "outputs": [
    {
     "output_type": "stream",
     "name": "stdout",
     "text": "150\n"
    }
   ],
   "source": [
    "from functools import reduce     \n",
    "print(reduce(lambda x,y:x+y,[10,20,30,40,50])) "
   ]
  },
  {
   "source": [
    "Both gave the same result."
   ],
   "cell_type": "markdown",
   "metadata": {}
  },
  {
   "source": [
    "1.2 Write a Python program to implement your own myfilter() function which works exactly like Python's built-in function filter()"
   ],
   "cell_type": "markdown",
   "metadata": {}
  },
  {
   "cell_type": "code",
   "execution_count": 4,
   "metadata": {
    "tags": []
   },
   "outputs": [
    {
     "output_type": "stream",
     "name": "stdout",
     "text": "[6, 7, 8, 9]\n"
    }
   ],
   "source": [
    "def myfilter(func,sequence):\n",
    "\n",
    "    output = []\n",
    "    for item in sequence:\n",
    "        if func(item):\n",
    "            output.append(item)\n",
    "    return output\n",
    "\n",
    "print(myfilter(lambda x:x>5,[2,4,5,6,7,8,9])) "
   ]
  },
  {
   "cell_type": "code",
   "execution_count": 5,
   "metadata": {
    "tags": []
   },
   "outputs": [
    {
     "output_type": "stream",
     "name": "stdout",
     "text": "[6, 7, 8, 9]\n"
    }
   ],
   "source": [
    "print(list(filter(lambda x:x>5,[2,4,5,6,7,8,9])))"
   ]
  },
  {
   "source": [
    "Both gave the same result."
   ],
   "cell_type": "markdown",
   "metadata": {}
  },
  {
   "source": [
    "2. Implement List comprehensions to produce the following lists. \n",
    "\n",
    "Write List comprehensions to produce the following Lists "
   ],
   "cell_type": "markdown",
   "metadata": {}
  },
  {
   "cell_type": "code",
   "execution_count": null,
   "metadata": {},
   "outputs": [],
   "source": [
    "['x', 'xx', 'xxx', 'xxxx', 'y', 'yy', 'yyy', 'yyyy', 'z', 'zz', 'zzz', 'zzzz'] \n",
    "['x', 'y', 'z', 'xx', 'yy', 'zz', 'xxx', 'yyy', 'zzz', 'xxxx', 'yyyy', 'zzzz'] \n",
    "[[2], [3], [4], [3], [4], [5], [4], [5], [6]] [[2, 3, 4, 5], [3, 4, 5, 6], [4, 5, 6, 7], [5, 6, 7, 8]] \n",
    "[(1, 1), (2, 1), (3, 1), (1, 2), (2, 2), (3, 2), (1, 3), (2, 3), (3, 3)] "
   ]
  },
  {
   "source": [
    "list1 = ['x','y','z']"
   ],
   "cell_type": "code",
   "metadata": {},
   "execution_count": 8,
   "outputs": []
  },
  {
   "cell_type": "code",
   "execution_count": 9,
   "metadata": {
    "tags": []
   },
   "outputs": [
    {
     "output_type": "stream",
     "name": "stdout",
     "text": "['x', 'xx', 'xxx', 'xxxx', 'y', 'yy', 'yyy', 'yyyy', 'z', 'zz', 'zzz', 'zzzz']\n"
    }
   ],
   "source": [
    "output = [ item*num for item in list1 for num in range(1,5)]\n",
    "print(output)"
   ]
  },
  {
   "cell_type": "code",
   "execution_count": 10,
   "metadata": {
    "tags": []
   },
   "outputs": [
    {
     "output_type": "stream",
     "name": "stdout",
     "text": "['x', 'y', 'z', 'xx', 'yy', 'zz', 'xxx', 'yyy', 'zzz', 'xxxx', 'yyyy', 'zzzz']\n"
    }
   ],
   "source": [
    "output = [ item*num for num in range(1,5) for item in list1 ]\n",
    "print(output)"
   ]
  },
  {
   "cell_type": "code",
   "execution_count": 11,
   "metadata": {
    "tags": []
   },
   "outputs": [
    {
     "output_type": "stream",
     "name": "stdout",
     "text": "[[2], [3], [4], [3], [4], [5], [4], [5], [6]]\n"
    }
   ],
   "source": [
    "list2 = [2,3,4]\n",
    "output = [ [item+num] for num in range(0,3) for item in list2 ]\n",
    "print(output)"
   ]
  },
  {
   "cell_type": "code",
   "execution_count": 12,
   "metadata": {
    "tags": []
   },
   "outputs": [
    {
     "output_type": "stream",
     "name": "stdout",
     "text": "[[2, 3, 4, 5], [3, 4, 5, 6], [4, 5, 6, 7], [5, 6, 7, 8]]\n"
    }
   ],
   "source": [
    "list3 = [2,3,4,5]\n",
    "output = [ [item+num for item in list3] for num in range(0,4)  ]\n",
    "print(output)"
   ]
  },
  {
   "cell_type": "code",
   "execution_count": 13,
   "metadata": {
    "tags": []
   },
   "outputs": [
    {
     "output_type": "stream",
     "name": "stdout",
     "text": "[(1, 1), (2, 1), (3, 1), (1, 2), (2, 2), (3, 2), (1, 3), (2, 3), (3, 3)]\n"
    }
   ],
   "source": [
    "list4=[1,2,3]\n",
    "output = [ (j,i) for i in list4 for j in list4]\n",
    "print(output)"
   ]
  }
 ]
}