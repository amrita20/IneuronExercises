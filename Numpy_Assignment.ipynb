{
 "metadata": {
  "language_info": {
   "codemirror_mode": {
    "name": "ipython",
    "version": 3
   },
   "file_extension": ".py",
   "mimetype": "text/x-python",
   "name": "python",
   "nbconvert_exporter": "python",
   "pygments_lexer": "ipython3",
   "version": "3.7.6-final"
  },
  "orig_nbformat": 2,
  "kernelspec": {
   "name": "Python 3.7.6 64-bit",
   "display_name": "Python 3.7.6 64-bit",
   "metadata": {
    "interpreter": {
     "hash": "473394c18fa81b513adb2e8ddb5b31f40d428c2854e7de7d3f764bbebbd72104"
    }
   }
  }
 },
 "nbformat": 4,
 "nbformat_minor": 2,
 "cells": [
  {
   "source": [
    "### Numpy Assignment"
   ],
   "cell_type": "markdown",
   "metadata": {}
  },
  {
   "source": [
    "1. Write a function so that the columns of the output matrix are powers of the input \n",
    " vector. \n",
    " \n",
    "The order of the powers is determined by the increasing boolean argument. Specifically, when increasing is False, the i-th output column is the input vector raised element-wise to the power of N - i - 1. "
   ],
   "cell_type": "markdown",
   "metadata": {}
  },
  {
   "cell_type": "code",
   "execution_count": 1,
   "metadata": {},
   "outputs": [],
   "source": [
    "import numpy as np "
   ]
  },
  {
   "cell_type": "code",
   "execution_count": 33,
   "metadata": {},
   "outputs": [
    {
     "output_type": "execute_result",
     "data": {
      "text/plain": "array([[  1,   1,   1,   1],\n       [  8,   4,   2,   1],\n       [ 64,  16,   4,   1],\n       [125,  25,   5,   1]], dtype=int32)"
     },
     "metadata": {},
     "execution_count": 33
    }
   ],
   "source": [
    "def vender_like(a, Y):\n",
    "    return np.column_stack([a**(Y-1-i) for i in range(Y)])\n",
    "a  =np.array([1,2,4,5])\n",
    "vender_like(a, Y=4)"
   ]
  },
  {
   "cell_type": "code",
   "execution_count": 5,
   "metadata": {},
   "outputs": [
    {
     "output_type": "execute_result",
     "data": {
      "text/plain": "array([[  1,   1,   1,   1],\n       [  8,   4,   2,   1],\n       [ 64,  16,   4,   1],\n       [125,  25,   5,   1]])"
     },
     "metadata": {},
     "execution_count": 5
    }
   ],
   "source": [
    "np.vander(a,Y)"
   ]
  },
  {
   "source": [
    "#### So, in either way, we can obtain the desired result "
   ],
   "cell_type": "markdown",
   "metadata": {}
  },
  {
   "source": [
    "2. Write a function to find moving average in an array over a window:\n",
    "Test it over [3, 5, 7, 2, 8, 10, 11, 65, 72, 81, 99, 100, 150] and window of 3. "
   ],
   "cell_type": "markdown",
   "metadata": {}
  },
  {
   "cell_type": "code",
   "execution_count": 32,
   "metadata": {},
   "outputs": [
    {
     "output_type": "execute_result",
     "data": {
      "text/plain": "array([  5.  ,   4.67,   5.67,   6.67,   9.67,  28.67,  49.33,  72.67,\n        84.  ,  93.33, 116.33])"
     },
     "metadata": {},
     "execution_count": 32
    }
   ],
   "source": [
    "def moving_average(a, n=3):\n",
    "    a_sum = np.cumsum(a, dtype=float)\n",
    "    a_sum[n:] = a_sum[n:] - a_sum[:-n]\n",
    "    return a_sum[n-1:]/3\n",
    "\n",
    "b = [3, 5, 7, 2, 8, 10, 11, 65, 72, 81, 99, 100, 150]\n",
    "a = np.array(b)\n",
    "np.array(moving_average(a, n=3)).round(2)"
   ]
  }
 ]
}